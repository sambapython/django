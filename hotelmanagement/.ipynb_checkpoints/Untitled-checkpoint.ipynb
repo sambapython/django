{
 "cells": [
  {
   "cell_type": "code",
   "execution_count": 1,
   "metadata": {},
   "outputs": [
    {
     "name": "stdout",
     "output_type": "stream",
     "text": [
      "How many records want to insert:anil\n"
     ]
    },
    {
     "ename": "ValueError",
     "evalue": "invalid literal for int() with base 10: 'anil'",
     "output_type": "error",
     "traceback": [
      "\u001b[0;31m---------------------------------------------------------------------------\u001b[0m",
      "\u001b[0;31mValueError\u001b[0m                                Traceback (most recent call last)",
      "\u001b[0;32m<ipython-input-1-f1641ad9a69d>\u001b[0m in \u001b[0;36m<module>\u001b[0;34m()\u001b[0m\n\u001b[1;32m      3\u001b[0m \u001b[0mdata\u001b[0m\u001b[0;34m=\u001b[0m\u001b[0;34m{\u001b[0m\u001b[0;34m}\u001b[0m\u001b[0;34m\u001b[0m\u001b[0m\n\u001b[1;32m      4\u001b[0m \u001b[0mnumber\u001b[0m \u001b[0;34m=\u001b[0m \u001b[0mraw_input\u001b[0m\u001b[0;34m(\u001b[0m\u001b[0;34m\"How many records want to insert:\"\u001b[0m\u001b[0;34m)\u001b[0m\u001b[0;34m\u001b[0m\u001b[0m\n\u001b[0;32m----> 5\u001b[0;31m \u001b[0;32mfor\u001b[0m \u001b[0mi\u001b[0m \u001b[0;32min\u001b[0m \u001b[0mrange\u001b[0m\u001b[0;34m(\u001b[0m\u001b[0mint\u001b[0m\u001b[0;34m(\u001b[0m\u001b[0mnumber\u001b[0m\u001b[0;34m)\u001b[0m\u001b[0;34m)\u001b[0m\u001b[0;34m:\u001b[0m\u001b[0;34m\u001b[0m\u001b[0m\n\u001b[0m\u001b[1;32m      6\u001b[0m     \u001b[0;32mprint\u001b[0m \u001b[0;34m\"Enter %s record:\"\u001b[0m\u001b[0;34m%\u001b[0m\u001b[0mi\u001b[0m\u001b[0;34m\u001b[0m\u001b[0m\n\u001b[1;32m      7\u001b[0m     \u001b[0mname\u001b[0m\u001b[0;34m=\u001b[0m\u001b[0mraw_input\u001b[0m\u001b[0;34m(\u001b[0m\u001b[0;34m\"enter name:\"\u001b[0m\u001b[0;34m)\u001b[0m\u001b[0;34m\u001b[0m\u001b[0m\n",
      "\u001b[0;31mValueError\u001b[0m: invalid literal for int() with base 10: 'anil'"
     ]
    }
   ],
   "source": [
    "#{\"anil\":1}\n",
    "\n",
    "data={}\n",
    "number = raw_input(\"How many records want to insert:\")\n",
    "for i in range(int(number)):\n",
    "    print \"Enter %s record:\"%i\n",
    "    name=raw_input(\"enter name:\")\n",
    "    r_id=raw_input(\"Enter roll number:\")\n",
    "    data.update({name:r_id})\n",
    "print data"
   ]
  },
  {
   "cell_type": "code",
   "execution_count": 2,
   "metadata": {},
   "outputs": [
    {
     "name": "stdout",
     "output_type": "stream",
     "text": [
      "How many records want to insert:2\n",
      "Enter 0 record:\n",
      "enter name:anil\n",
      "Enter roll number:1\n",
      "Enter 1 record:\n",
      "enter name:ajay\n",
      "Enter roll number:2\n",
      "{'anil': '1', 'ajay': '2'}\n"
     ]
    }
   ],
   "source": [
    "#{\"anil\":1}\n",
    "#{\"name\":\"anil\",\"roolnumber:1,name\":\"ajay\",\"roolnumber:2}\n",
    "\n",
    "data={}\n",
    "number = raw_input(\"How many records want to insert:\")\n",
    "for i in range(int(number)):\n",
    "    print \"Enter %s record:\"%i\n",
    "    name=raw_input(\"enter name:\")\n",
    "    r_id=raw_input(\"Enter roll number:\")\n",
    "    data.update({name:r_id})\n",
    "print data"
   ]
  },
  {
   "cell_type": "code",
   "execution_count": 4,
   "metadata": {},
   "outputs": [
    {
     "name": "stdout",
     "output_type": "stream",
     "text": [
      "{'roolnumber': 2, 'name': 'ajay'}\n"
     ]
    }
   ],
   "source": [
    "data={\"name\":\"anil\",\"roolnumber\":1,\"name\":\"ajay\",\"roolnumber\":2}\n",
    "print data "
   ]
  },
  {
   "cell_type": "code",
   "execution_count": null,
   "metadata": {
    "collapsed": true
   },
   "outputs": [],
   "source": [
    "data=[]\n",
    "number = raw_input(\"How many records want to insert:\")\n",
    "for i in range(int(number)):\n",
    "    print \"Enter %s record:\"%i\n",
    "    name=raw_input(\"enter name:\")\n",
    "    r_id=raw_input(\"Enter roll number:\")\n",
    "    data.append({\"id\":r_id, \"name\":name})\n",
    "print data"
   ]
  }
 ],
 "metadata": {
  "kernelspec": {
   "display_name": "Python 2",
   "language": "python",
   "name": "python2"
  },
  "language_info": {
   "codemirror_mode": {
    "name": "ipython",
    "version": 2
   },
   "file_extension": ".py",
   "mimetype": "text/x-python",
   "name": "python",
   "nbconvert_exporter": "python",
   "pygments_lexer": "ipython2",
   "version": "2.7.14"
  }
 },
 "nbformat": 4,
 "nbformat_minor": 2
}
